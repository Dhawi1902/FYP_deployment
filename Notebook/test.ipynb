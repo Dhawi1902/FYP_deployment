{
 "cells": [
  {
   "cell_type": "code",
   "id": "initial_id",
   "metadata": {
    "collapsed": true,
    "ExecuteTime": {
     "end_time": "2024-06-02T10:20:00.002338Z",
     "start_time": "2024-06-02T10:19:58.833114Z"
    }
   },
   "source": [
    "from __future__ import division, print_function\n",
    "import sys\n",
    "import os\n",
    "import glob\n",
    "import re\n",
    "import numpy as np\n",
    "import base64\n",
    "\n",
    "# Suppress TensorFlow logging\n",
    "os.environ['TF_CPP_MIN_LOG_LEVEL'] = '3'\n",
    "\n",
    "# Image processing libraries\n",
    "from PIL import Image\n",
    "import cv2\n",
    "\n",
    "# Flask utilities\n",
    "from flask import Flask, redirect, url_for, request, render_template, jsonify\n",
    "from werkzeug.utils import secure_filename\n",
    "from gevent.pywsgi import WSGIServer\n",
    "\n",
    "# Keras utilities\n",
    "from keras.applications.imagenet_utils import preprocess_input, decode_predictions\n",
    "from keras.models import load_model\n",
    "from keras.utils import load_img, img_to_array\n",
    "from keras.preprocessing import image\n",
    "import tensorflow as tf\n",
    "from keras import layers, ops\n",
    "import keras\n",
    "\n",
    "\n",
    "import warnings\n",
    "warnings.filterwarnings('ignore')"
   ],
   "outputs": [],
   "execution_count": 1
  },
  {
   "metadata": {
    "ExecuteTime": {
     "end_time": "2024-06-02T10:20:00.005150Z",
     "start_time": "2024-06-02T10:20:00.003215Z"
    }
   },
   "cell_type": "code",
   "source": [
    "# Task 1: Import images with labels and print in a tabular format\n",
    "data_folder = \"/home/dhawi/Documents/dataset\"\n",
    "dataset = data_folder + \"/AI_project\"\n",
    "model_folder = \"/home/dhawi/Documents/model\"\n",
    "history_folder = \"/home/dhawi/Documents/History\""
   ],
   "id": "788689ef2bacdb6",
   "outputs": [],
   "execution_count": 2
  },
  {
   "metadata": {
    "ExecuteTime": {
     "end_time": "2024-06-02T10:20:00.009023Z",
     "start_time": "2024-06-02T10:20:00.005794Z"
    }
   },
   "cell_type": "code",
   "source": [
    "import os\n",
    "# Function to get image file paths and corresponding labels\n",
    "def get_image_paths_and_labels(data_dir):\n",
    "    image_paths = []\n",
    "    labels = []\n",
    "    class_names = sorted(os.listdir(data_dir))\n",
    "    \n",
    "    for label, class_name in enumerate(class_names):\n",
    "        class_dir = os.path.join(data_dir, class_name)\n",
    "        if os.path.isdir(class_dir):\n",
    "            for sub_dir in os.listdir(class_dir):\n",
    "                sub_dir_path = os.path.join(class_dir, sub_dir)\n",
    "                if os.path.isdir(sub_dir_path):\n",
    "                    for img_name in os.listdir(sub_dir_path):\n",
    "                        img_path = os.path.join(sub_dir_path, img_name)\n",
    "                        if os.path.isfile(img_path):\n",
    "                            img = cv2.imread(img_path)\n",
    "                            img = cv2.cvtColor(img, cv2.COLOR_BGR2RGB)\n",
    "                            img = cv2.resize(img, (128, 128))\n",
    "                            image_paths.append(img/255.0)\n",
    "                            labels.append(label)\n",
    "    \n",
    "    return np.array(image_paths), labels, class_names"
   ],
   "id": "cc227181b13cdc22",
   "outputs": [],
   "execution_count": 3
  },
  {
   "metadata": {
    "ExecuteTime": {
     "end_time": "2024-06-02T10:20:00.013662Z",
     "start_time": "2024-06-02T10:20:00.009914Z"
    }
   },
   "cell_type": "code",
   "source": [
    "def load_original_images_and_labels(dataset_dir):\n",
    "    image_paths, labels, class_names = get_image_paths_and_labels(dataset_dir)\n",
    "    images = image_paths\n",
    "    labels = np.array(labels)\n",
    "    return images, labels, class_names"
   ],
   "id": "ef30542ef66c5523",
   "outputs": [],
   "execution_count": 4
  },
  {
   "metadata": {
    "ExecuteTime": {
     "end_time": "2024-06-02T10:20:05.051140Z",
     "start_time": "2024-06-02T10:20:00.014231Z"
    }
   },
   "cell_type": "code",
   "source": "original_images, original_labels, class_names = load_original_images_and_labels(dataset)",
   "id": "36e84bca13c2984",
   "outputs": [],
   "execution_count": 5
  },
  {
   "metadata": {
    "ExecuteTime": {
     "end_time": "2024-06-02T10:20:05.053930Z",
     "start_time": "2024-06-02T10:20:05.052003Z"
    }
   },
   "cell_type": "code",
   "source": [
    "MODEL_PATHS = {\n",
    "    'resnet50': 'models/keras_best_model.keras',\n",
    "    'resnet101': 'models/resnet_model.keras',\n",
    "    'caries_GAN': 'models/caries_gan.h5',\n",
    "    'caries_encoder': 'models/caries_encoder.h5',\n",
    "    'caries_decoder': 'models/caries_decoder.h5',\n",
    "    'gingivitis_GAN': 'models/gingivitis_gan.h5',\n",
    "    'gingivitis_encoder': 'models/gingivitis_encoder.h5',\n",
    "    'gingivitis_decoder': 'models/gingivitis_decoder.h5',\n",
    "    'wsl_GAN': 'models/wsl_gan.h5',\n",
    "    'wsl_encoder': 'models/wsl_encoder.h5',\n",
    "    'wsl_decoder': 'models/wsl_decoder.h5',\n",
    "}"
   ],
   "id": "39de5fdfdd8c1f5c",
   "outputs": [],
   "execution_count": 6
  },
  {
   "metadata": {
    "ExecuteTime": {
     "end_time": "2024-06-02T10:20:10.742687Z",
     "start_time": "2024-06-02T10:20:05.054675Z"
    }
   },
   "cell_type": "code",
   "source": [
    "# Load models\n",
    "models = {\n",
    "    'resnet50': load_model(MODEL_PATHS['resnet50']),\n",
    "}"
   ],
   "id": "24f862cfc25f736d",
   "outputs": [],
   "execution_count": 7
  },
  {
   "metadata": {
    "ExecuteTime": {
     "end_time": "2024-06-02T10:20:10.745681Z",
     "start_time": "2024-06-02T10:20:10.743602Z"
    }
   },
   "cell_type": "code",
   "source": "x = original_images[0]",
   "id": "39dde8432fd86247",
   "outputs": [],
   "execution_count": 8
  },
  {
   "metadata": {
    "ExecuteTime": {
     "end_time": "2024-06-02T10:20:10.751950Z",
     "start_time": "2024-06-02T10:20:10.746374Z"
    }
   },
   "cell_type": "code",
   "source": "x.shape",
   "id": "8c5a27258b3a22d7",
   "outputs": [
    {
     "data": {
      "text/plain": [
       "(128, 128, 3)"
      ]
     },
     "execution_count": 9,
     "metadata": {},
     "output_type": "execute_result"
    }
   ],
   "execution_count": 9
  },
  {
   "metadata": {
    "ExecuteTime": {
     "end_time": "2024-06-02T10:20:10.754752Z",
     "start_time": "2024-06-02T10:20:10.753076Z"
    }
   },
   "cell_type": "code",
   "source": [
    "# Convert the image to a numpy array and expand dimensions to create a batch of size 1\n",
    "x = np.expand_dims(x, axis=0)"
   ],
   "id": "406a85eacee8ab92",
   "outputs": [],
   "execution_count": 10
  },
  {
   "metadata": {
    "ExecuteTime": {
     "end_time": "2024-06-02T10:20:10.758474Z",
     "start_time": "2024-06-02T10:20:10.755337Z"
    }
   },
   "cell_type": "code",
   "source": "x.shape",
   "id": "2cac7f0d27a63f9f",
   "outputs": [
    {
     "data": {
      "text/plain": [
       "(1, 128, 128, 3)"
      ]
     },
     "execution_count": 11,
     "metadata": {},
     "output_type": "execute_result"
    }
   ],
   "execution_count": 11
  },
  {
   "metadata": {
    "ExecuteTime": {
     "end_time": "2024-06-02T10:20:10.761617Z",
     "start_time": "2024-06-02T10:20:10.759011Z"
    }
   },
   "cell_type": "code",
   "source": "# x = preprocess_input(x)",
   "id": "c4aa368e6a395dfb",
   "outputs": [],
   "execution_count": 12
  },
  {
   "metadata": {
    "ExecuteTime": {
     "end_time": "2024-06-02T10:20:14.590904Z",
     "start_time": "2024-06-02T10:20:10.762128Z"
    }
   },
   "cell_type": "code",
   "source": [
    "preds = models['resnet50'].predict(original_images)\n",
    "labels = np.argmax(preds, axis=1)"
   ],
   "id": "d3fdd8c74918c5ab",
   "outputs": [
    {
     "name": "stderr",
     "output_type": "stream",
     "text": [
      "WARNING: All log messages before absl::InitializeLog() is called are written to STDERR\n",
      "I0000 00:00:1717323611.509332   85073 service.cc:145] XLA service 0x7cac2c015d70 initialized for platform CUDA (this does not guarantee that XLA will be used). Devices:\n",
      "I0000 00:00:1717323611.509353   85073 service.cc:153]   StreamExecutor device (0): NVIDIA GeForce RTX 4060, Compute Capability 8.9\n",
      "WARNING: All log messages before absl::InitializeLog() is called are written to STDERR\n",
      "I0000 00:00:1717323612.440977   85117 asm_compiler.cc:369] ptxas warning : Registers are spilled to local memory in function 'triton_gemm_dot_1686', 460 bytes spill stores, 348 bytes spill loads\n",
      "\n",
      "I0000 00:00:1717323612.493225   85113 asm_compiler.cc:369] ptxas warning : Registers are spilled to local memory in function 'triton_gemm_dot_1679', 16 bytes spill stores, 16 bytes spill loads\n",
      "\n",
      "I0000 00:00:1717323612.605500   85120 asm_compiler.cc:369] ptxas warning : Registers are spilled to local memory in function 'triton_gemm_dot_1686', 952 bytes spill stores, 620 bytes spill loads\n",
      "\n",
      "I0000 00:00:1717323612.733068   85118 asm_compiler.cc:369] ptxas warning : Registers are spilled to local memory in function 'triton_gemm_dot_1679', 244 bytes spill stores, 244 bytes spill loads\n",
      "\n"
     ]
    },
    {
     "name": "stdout",
     "output_type": "stream",
     "text": [
      "\u001B[1m1/1\u001B[0m \u001B[32m━━━━━━━━━━━━━━━━━━━━\u001B[0m\u001B[37m\u001B[0m \u001B[1m4s\u001B[0m 4s/step\n"
     ]
    },
    {
     "name": "stderr",
     "output_type": "stream",
     "text": [
      "I0000 00:00:1717323614.571501   85073 device_compiler.h:188] Compiled cluster using XLA!  This line is logged at most once for the lifetime of the process.\n"
     ]
    }
   ],
   "execution_count": 13
  },
  {
   "metadata": {
    "ExecuteTime": {
     "end_time": "2024-06-02T10:20:14.594968Z",
     "start_time": "2024-06-02T10:20:14.591685Z"
    }
   },
   "cell_type": "code",
   "source": "preds",
   "id": "5b3f7416d8c63f6c",
   "outputs": [
    {
     "data": {
      "text/plain": [
       "array([[0.34266093, 0.28316304, 0.37417606],\n",
       "       [0.35924333, 0.2718205 , 0.3689362 ],\n",
       "       [0.36166176, 0.27241662, 0.36592162],\n",
       "       [0.36692494, 0.2688673 , 0.36420777],\n",
       "       [0.3646371 , 0.26488757, 0.37047535],\n",
       "       [0.36104292, 0.2706561 , 0.36830094],\n",
       "       [0.36742494, 0.26708338, 0.36549175],\n",
       "       [0.3562144 , 0.27920595, 0.36457965],\n",
       "       [0.36034006, 0.27051   , 0.36914992],\n",
       "       [0.36384833, 0.27032617, 0.36582547],\n",
       "       [0.34266093, 0.28316304, 0.37417606],\n",
       "       [0.35924333, 0.2718205 , 0.3689362 ],\n",
       "       [0.36166176, 0.27241662, 0.36592162],\n",
       "       [0.35891458, 0.2708761 , 0.37020928],\n",
       "       [0.36006725, 0.26754758, 0.37238514],\n",
       "       [0.35648996, 0.27416098, 0.36934903],\n",
       "       [0.34331918, 0.2766832 , 0.37999755],\n",
       "       [0.36050373, 0.26852468, 0.37097165],\n",
       "       [0.34266093, 0.28316304, 0.37417606],\n",
       "       [0.35924333, 0.2718205 , 0.3689362 ],\n",
       "       [0.36166176, 0.27241662, 0.36592162],\n",
       "       [0.3615698 , 0.2716769 , 0.36675334],\n",
       "       [0.3476312 , 0.26621023, 0.3861586 ],\n",
       "       [0.35726953, 0.27152064, 0.37120983],\n",
       "       [0.36137706, 0.27175307, 0.36686984],\n",
       "       [0.3492992 , 0.27110362, 0.37959722],\n",
       "       [0.36763614, 0.2676031 , 0.36476082],\n",
       "       [0.36435905, 0.26918712, 0.36645383],\n",
       "       [0.36354163, 0.26932847, 0.36712992]], dtype=float32)"
      ]
     },
     "execution_count": 14,
     "metadata": {},
     "output_type": "execute_result"
    }
   ],
   "execution_count": 14
  },
  {
   "metadata": {
    "ExecuteTime": {
     "end_time": "2024-06-02T10:20:14.598457Z",
     "start_time": "2024-06-02T10:20:14.595670Z"
    }
   },
   "cell_type": "code",
   "source": "labels",
   "id": "f2be902690d0551d",
   "outputs": [
    {
     "data": {
      "text/plain": [
       "array([2, 2, 2, 0, 2, 2, 0, 2, 2, 2, 2, 2, 2, 2, 2, 2, 2, 2, 2, 2, 2, 2,\n",
       "       2, 2, 2, 2, 0, 2, 2])"
      ]
     },
     "execution_count": 15,
     "metadata": {},
     "output_type": "execute_result"
    }
   ],
   "execution_count": 15
  },
  {
   "metadata": {
    "ExecuteTime": {
     "end_time": "2024-06-02T10:20:35.062760Z",
     "start_time": "2024-06-02T10:20:35.059993Z"
    }
   },
   "cell_type": "code",
   "source": "original_images.shape",
   "id": "86f2d9c55464e3df",
   "outputs": [
    {
     "data": {
      "text/plain": [
       "(29, 128, 128, 3)"
      ]
     },
     "execution_count": 16,
     "metadata": {},
     "output_type": "execute_result"
    }
   ],
   "execution_count": 16
  },
  {
   "metadata": {
    "ExecuteTime": {
     "end_time": "2024-06-02T10:21:54.845037Z",
     "start_time": "2024-06-02T10:21:54.750438Z"
    }
   },
   "cell_type": "code",
   "source": [
    "from sklearn.metrics import confusion_matrix, classification_report\n",
    "# Print classification report\n",
    "print(classification_report(original_labels, labels, target_names=class_names))"
   ],
   "id": "6a237bb59665a034",
   "outputs": [
    {
     "name": "stdout",
     "output_type": "stream",
     "text": [
      "                   precision    recall  f1-score   support\n",
      "\n",
      "           Caries       0.67      0.29      0.40         7\n",
      "       Gingivitis       0.00      0.00      0.00        10\n",
      "White Spot Lesion       0.42      0.92      0.58        12\n",
      "\n",
      "         accuracy                           0.45        29\n",
      "        macro avg       0.36      0.40      0.33        29\n",
      "     weighted avg       0.34      0.45      0.34        29\n",
      "\n"
     ]
    }
   ],
   "execution_count": 17
  },
  {
   "metadata": {
    "ExecuteTime": {
     "end_time": "2024-06-02T10:23:02.420598Z",
     "start_time": "2024-06-02T10:23:02.290912Z"
    }
   },
   "cell_type": "code",
   "source": [
    "import matplotlib.pyplot as plt\n",
    "import seaborn as sns\n",
    "# Calculate and plot confusion matrix\n",
    "cm = confusion_matrix(original_labels, labels)\n",
    "cm_normalized = cm.astype('float') / cm.sum(axis=1)[:, np.newaxis]\n",
    "\n",
    "plt.figure(figsize=(8, 6))\n",
    "sns.heatmap(cm_normalized, annot=True, fmt='.2f', cmap='Blues', xticklabels=class_names, yticklabels=class_names)\n",
    "plt.title('Confusion Matrix')\n",
    "plt.xlabel('Predicted Label')\n",
    "plt.ylabel('True Label')\n",
    "plt.show()"
   ],
   "id": "e4e6e923e42c0c3a",
   "outputs": [
    {
     "data": {
      "text/plain": [
       "<Figure size 800x600 with 2 Axes>"
      ],
      "image/png": "[encoded data removed]"
     },
     "metadata": {},
     "output_type": "display_data"
    }
   ],
   "execution_count": 18
  },
  {
   "metadata": {},
   "cell_type": "code",
   "outputs": [],
   "execution_count": null,
   "source": "",
   "id": "2560ec555160e179"
  }
 ],
 "metadata": {
  "kernelspec": {
   "display_name": "Python 3",
   "language": "python",
   "name": "python3"
  },
  "language_info": {
   "codemirror_mode": {
    "name": "ipython",
    "version": 2
   },
   "file_extension": ".py",
   "mimetype": "text/x-python",
   "name": "python",
   "nbconvert_exporter": "python",
   "pygments_lexer": "ipython2",
   "version": "2.7.6"
  }
 },
 "nbformat": 4,
 "nbformat_minor": 5
}
