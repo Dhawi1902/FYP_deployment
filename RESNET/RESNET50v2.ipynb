{
 "cells": [
  {
   "metadata": {
    "ExecuteTime": {
     "end_time": "2024-05-14T17:29:41.607481Z",
     "start_time": "2024-05-14T17:29:41.600774Z"
    }
   },
   "cell_type": "code",
   "source": [
    "import os\n",
    "os.environ['TF_CPP_MIN_LOG_LEVEL'] = '3' "
   ],
   "id": "9e43944ce0f0717",
   "execution_count": 1,
   "outputs": []
  },
  {
   "cell_type": "code",
   "id": "initial_id",
   "metadata": {
    "collapsed": true,
    "ExecuteTime": {
     "end_time": "2024-05-14T17:29:42.684351Z",
     "start_time": "2024-05-14T17:29:41.627164Z"
    }
   },
   "source": [
    "import numpy as np\n",
    "import tensorflow as tf\n",
    "from tensorflow.keras.applications import ResNet50\n",
    "from tensorflow.keras.layers import Dense, GlobalAveragePooling2D\n",
    "from tensorflow.keras.models import Model\n",
    "from tensorflow.keras.preprocessing.image import ImageDataGenerator\n",
    "from tensorflow.keras.callbacks import ModelCheckpoint, EarlyStopping\n",
    "from sklearn.model_selection import train_test_split\n",
    "from sklearn.utils.class_weight import compute_class_weight\n",
    "import warnings\n",
    "warnings.filterwarnings('ignore')"
   ],
   "execution_count": 2,
   "outputs": []
  },
  {
   "metadata": {
    "ExecuteTime": {
     "end_time": "2024-05-14T17:29:42.687125Z",
     "start_time": "2024-05-14T17:29:42.685238Z"
    }
   },
   "cell_type": "code",
   "source": [
    "# Task 1: Import images with labels and print in a tabular format\n",
    "data_folder = \"/home/dhawi/Documents/dataset\"\n",
    "training = data_folder + \"/teeth_dataset/Trianing\"\n",
    "testing = data_folder + \"/teeth_dataset/test\"\n",
    "model_folder = \"/home/dhawi/Documents/model\"\n",
    "history_folder = \"/home/dhawi/Documents/History\""
   ],
   "id": "f4110a64a25adbe",
   "execution_count": 3,
   "outputs": []
  },
  {
   "metadata": {
    "ExecuteTime": {
     "end_time": "2024-05-14T17:29:42.690419Z",
     "start_time": "2024-05-14T17:29:42.687690Z"
    }
   },
   "cell_type": "code",
   "source": [
    "# Define the dataset directories\n",
    "train_dir = training\n",
    "test_dir = testing"
   ],
   "id": "496f64be0487b9cc",
   "execution_count": 4,
   "outputs": []
  },
  {
   "metadata": {
    "ExecuteTime": {
     "end_time": "2024-05-14T17:29:42.693898Z",
     "start_time": "2024-05-14T17:29:42.691257Z"
    }
   },
   "cell_type": "code",
   "source": [
    "# Function to get image file paths and corresponding labels\n",
    "def get_image_paths_and_labels(data_dir):\n",
    "    image_paths = []\n",
    "    labels = []\n",
    "    class_names = sorted(os.listdir(data_dir))\n",
    "    \n",
    "    for label, class_name in enumerate(class_names):\n",
    "        class_dir = os.path.join(data_dir, class_name)\n",
    "        if os.path.isdir(class_dir):\n",
    "            for img_name in os.listdir(class_dir):\n",
    "                img_path = os.path.join(class_dir, img_name)\n",
    "                if os.path.isfile(img_path):\n",
    "                    image_paths.append(img_path)\n",
    "                    labels.append(label)\n",
    "    \n",
    "    return image_paths, labels, class_names"
   ],
   "id": "d2439304fb8c61a0",
   "execution_count": 5,
   "outputs": []
  },
  {
   "metadata": {
    "ExecuteTime": {
     "end_time": "2024-05-14T17:29:42.699998Z",
     "start_time": "2024-05-14T17:29:42.694515Z"
    }
   },
   "cell_type": "code",
   "source": [
    "# Get paths and labels for the training data\n",
    "train_image_paths, train_labels, class_names = get_image_paths_and_labels(train_dir)\n",
    "\n",
    "# Split the training data into training and validation sets\n",
    "train_paths, val_paths, train_labels, val_labels = train_test_split(\n",
    "    train_image_paths, train_labels, test_size=0.2, stratify=train_labels, random_state=123)\n",
    "\n",
    "# Compute class weights to handle class imbalance\n",
    "class_weights = compute_class_weight('balanced', classes=np.unique(train_labels), y=train_labels)\n",
    "class_weights = {i: class_weights[i] for i in range(len(class_weights))}"
   ],
   "id": "429aad1a9dbdbf50",
   "execution_count": 6,
   "outputs": []
  },
  {
   "metadata": {
    "ExecuteTime": {
     "end_time": "2024-05-14T17:29:42.702423Z",
     "start_time": "2024-05-14T17:29:42.700616Z"
    }
   },
   "cell_type": "code",
   "source": [
    "# Function to load and preprocess images\n",
    "def load_image(path, label):\n",
    "    image = tf.io.read_file(path)\n",
    "    image = tf.image.decode_jpeg(image, channels=3)\n",
    "    image = tf.image.resize(image, [128, 128])\n",
    "    return image, label"
   ],
   "id": "712ef2838affaadd",
   "execution_count": 7,
   "outputs": []
  },
  {
   "metadata": {
    "ExecuteTime": {
     "end_time": "2024-05-14T17:29:42.992593Z",
     "start_time": "2024-05-14T17:29:42.702961Z"
    }
   },
   "cell_type": "code",
   "source": [
    "# Create TensorFlow datasets\n",
    "train_dataset = tf.data.Dataset.from_tensor_slices((train_paths, train_labels))\n",
    "train_dataset = train_dataset.map(load_image, num_parallel_calls=tf.data.AUTOTUNE).batch(32).shuffle(buffer_size=len(train_paths)).prefetch(tf.data.AUTOTUNE)\n",
    "\n",
    "val_dataset = tf.data.Dataset.from_tensor_slices((val_paths, val_labels))\n",
    "val_dataset = val_dataset.map(load_image, num_parallel_calls=tf.data.AUTOTUNE).batch(32).prefetch(tf.data.AUTOTUNE)\n",
    "\n",
    "# Get paths and labels for the test data\n",
    "test_image_paths, test_labels, _ = get_image_paths_and_labels(test_dir)\n",
    "\n",
    "# Create the test dataset\n",
    "test_dataset = tf.data.Dataset.from_tensor_slices((test_image_paths, test_labels))\n",
    "test_dataset = test_dataset.map(load_image, num_parallel_calls=tf.data.AUTOTUNE).batch(32).prefetch(tf.data.AUTOTUNE)"
   ],
   "id": "67d9fc7a6e5a724c",
   "execution_count": 8,
   "outputs": []
  },
  {
   "metadata": {
    "ExecuteTime": {
     "end_time": "2024-05-14T17:29:43.718369Z",
     "start_time": "2024-05-14T17:29:42.993373Z"
    }
   },
   "cell_type": "code",
   "source": [
    "# Load the ResNet50 model pre-trained on ImageNet\n",
    "base_model = ResNet50(weights='imagenet', include_top=False, input_shape=(128, 128, 3))\n",
    "\n",
    "# Freeze the base model\n",
    "base_model.trainable = False\n",
    "\n",
    "# Add custom layers on top of the base model\n",
    "x = base_model.output\n",
    "x = GlobalAveragePooling2D()(x)\n",
    "x = Dense(1024, activation='relu')(x)\n",
    "predictions = Dense(2, activation='softmax')(x)  # 2 classes: caries and non-caries"
   ],
   "id": "ffa4f9c9b2741a24",
   "execution_count": 9,
   "outputs": []
  },
  {
   "metadata": {
    "ExecuteTime": {
     "end_time": "2024-05-14T17:29:43.733780Z",
     "start_time": "2024-05-14T17:29:43.719226Z"
    }
   },
   "cell_type": "code",
   "source": [
    "# Create the final model\n",
    "model = Model(inputs=base_model.input, outputs=predictions)\n",
    "\n",
    "# Compile the model\n",
    "model.compile(optimizer='adam', loss='sparse_categorical_crossentropy', metrics=['accuracy'])"
   ],
   "id": "68e8d4a10e41bb62",
   "execution_count": 10,
   "outputs": []
  },
  {
   "metadata": {
    "ExecuteTime": {
     "end_time": "2024-05-14T17:29:43.737158Z",
     "start_time": "2024-05-14T17:29:43.735203Z"
    }
   },
   "cell_type": "code",
   "source": [
    "# Callbacks\n",
    "resnet_model = model_folder + \"/resnet_model.keras\"\n",
    "checkpoint = ModelCheckpoint(resnet_model,  monitor='val_loss', save_best_only=True, mode='min')\n",
    "early_stopping = EarlyStopping(monitor='val_loss', patience=10, restore_best_weights=True)"
   ],
   "id": "ef9f122055d026ca",
   "execution_count": 11,
   "outputs": []
  },
  {
   "metadata": {
    "ExecuteTime": {
     "end_time": "2024-05-14T17:30:02.006510Z",
     "start_time": "2024-05-14T17:29:43.737779Z"
    }
   },
   "cell_type": "code",
   "source": [
    "# Train the model\n",
    "history = model.fit(\n",
    "    train_dataset,\n",
    "    validation_data=val_dataset,\n",
    "    epochs=50,\n",
    "    class_weight=class_weights,\n",
    "    callbacks=[checkpoint, early_stopping]\n",
    ")\n"
   ],
   "id": "31ce324fce108896",
   "execution_count": 12,
   "outputs": []
  },
  {
   "metadata": {
    "ExecuteTime": {
     "end_time": "2024-05-14T17:30:02.039743Z",
     "start_time": "2024-05-14T17:30:02.007304Z"
    }
   },
   "cell_type": "code",
   "source": [
    "# Evaluate the model on the test set\n",
    "test_loss, test_accuracy = model.evaluate(test_dataset)\n",
    "print(f'Test accuracy: {test_accuracy:.2f}')\n"
   ],
   "id": "dbf2621835240e71",
   "execution_count": 13,
   "outputs": []
  },
  {
   "metadata": {
    "ExecuteTime": {
     "end_time": "2024-05-14T17:30:02.259360Z",
     "start_time": "2024-05-14T17:30:02.040399Z"
    }
   },
   "cell_type": "code",
   "source": [
    "import matplotlib.pyplot as plt\n",
    "# Plotting the training history\n",
    "def plot_training_history(history):\n",
    "    plt.figure(figsize=(12, 4))\n",
    "    \n",
    "    # Plot training & validation accuracy\n",
    "    plt.subplot(1, 2, 1)\n",
    "    plt.plot(history.history['accuracy'], label='Train Accuracy')\n",
    "    plt.plot(history.history['val_accuracy'], label='Val Accuracy')\n",
    "    plt.title('Model Accuracy')\n",
    "    plt.xlabel('Epoch')\n",
    "    plt.ylabel('Accuracy')\n",
    "    plt.legend()\n",
    "    \n",
    "    # Plot training & validation loss\n",
    "    plt.subplot(1, 2, 2)\n",
    "    plt.plot(history.history['loss'], label='Train Loss')\n",
    "    plt.plot(history.history['val_loss'], label='Val Loss')\n",
    "    plt.title('Model Loss')\n",
    "    plt.xlabel('Epoch')\n",
    "    plt.ylabel('Loss')\n",
    "    plt.legend()\n",
    "    \n",
    "    plt.show()\n",
    "    \n",
    "plot_training_history(history)"
   ],
   "id": "d3ea31f2e3708b6a",
   "execution_count": 14,
   "outputs": []
  },
  {
   "metadata": {
    "ExecuteTime": {
     "end_time": "2024-05-14T17:30:03.844283Z",
     "start_time": "2024-05-14T17:30:02.260050Z"
    }
   },
   "cell_type": "code",
   "source": [
    "# Generate predictions and plot confusion matrix\n",
    "y_pred_probs = model.predict(test_dataset)\n",
    "y_pred = np.argmax(y_pred_probs, axis=1)"
   ],
   "id": "f34791613b5f0ff7",
   "execution_count": 15,
   "outputs": []
  },
  {
   "metadata": {
    "ExecuteTime": {
     "end_time": "2024-05-14T17:30:03.943386Z",
     "start_time": "2024-05-14T17:30:03.844932Z"
    }
   },
   "cell_type": "code",
   "source": [
    "from sklearn.metrics import confusion_matrix, classification_report\n",
    "import seaborn as sns\n",
    "# Calculate confusion matrix\n",
    "cm = confusion_matrix(test_labels, y_pred)\n",
    "cm_normalized = cm.astype('float') / cm.sum(axis=1)[:, np.newaxis]\n",
    "\n",
    "# Plot confusion matrix\n",
    "plt.figure(figsize=(8, 6))\n",
    "sns.heatmap(cm_normalized, annot=True, fmt='.2f', cmap='Blues', xticklabels=class_names, yticklabels=class_names)\n",
    "plt.title('Confusion Matrix')\n",
    "plt.xlabel('Predicted Label')\n",
    "plt.ylabel('True Label')\n",
    "plt.show()\n",
    "\n",
    "# Classification report\n",
    "print(classification_report(test_labels, y_pred, target_names=class_names))"
   ],
   "id": "18d7d19a1865c91a",
   "execution_count": 16,
   "outputs": []
  },
  {
   "metadata": {
    "ExecuteTime": {
     "end_time": "2024-05-14T17:30:03.947077Z",
     "start_time": "2024-05-14T17:30:03.944174Z"
    }
   },
   "cell_type": "code",
   "source": [
    "import json\n",
    "\n",
    "model_name = \"resnet50\"\n",
    "# Get the dictionary containing each metric and the loss for each epoch\n",
    "history_dict = history.history\n",
    "# Save it under the form of a json file\n",
    "history_file = history_folder + \"/\" + model_name + \"_history.json\"\n",
    "json.dump(history_dict, open(history_file, 'w'))"
   ],
   "id": "fe085fcddbcf2fd3",
   "execution_count": 17,
   "outputs": []
  },
  {
   "metadata": {
    "ExecuteTime": {
     "end_time": "2024-05-14T17:30:03.968549Z",
     "start_time": "2024-05-14T17:30:03.947848Z"
    }
   },
   "cell_type": "code",
   "source": [
    "import cv2\n",
    "from tqdm import tqdm\n",
    "\n",
    "def load_images_from_folder(folder, subfolder):\n",
    "    images = []\n",
    "    gray = []\n",
    "    # lab = []\n",
    "    foldername = os.path.join(folder, subfolder)\n",
    "    for filename in tqdm(os.listdir(foldername)):\n",
    "        img = cv2.imread(os.path.join(foldername, filename))\n",
    "        img = cv2.resize(img, (128, 128))\n",
    "    # convert the image to RGB (images are read in BGR in OpenCV)\n",
    "        img = cv2.cvtColor(img, cv2.COLOR_BGR2RGB)\n",
    "        gry = cv2.cvtColor(img, cv2.COLOR_RGB2GRAY)\n",
    "        if img is not None:\n",
    "            images.append(img)\n",
    "            gray.append(gry)\n",
    "            # lab.append(label)\n",
    "    return np.array(images), np.array(gray)"
   ],
   "id": "977603826af4274d",
   "execution_count": 18,
   "outputs": []
  },
  {
   "metadata": {
    "ExecuteTime": {
     "end_time": "2024-05-14T17:30:04.336508Z",
     "start_time": "2024-05-14T17:30:03.969263Z"
    }
   },
   "cell_type": "code",
   "source": [
    "caries_train, c_gray = load_images_from_folder(training, \"caries\")\n",
    "caries_test, ct_gray = load_images_from_folder(testing, \"caries\")\n",
    "noncaries_train, nc_gray = load_images_from_folder(training, \"without_caries\")\n",
    "noncaries_test, nct_gray = load_images_from_folder(testing, \"no-caries\")"
   ],
   "id": "da09ac21c1c00dbd",
   "execution_count": 19,
   "outputs": []
  },
  {
   "metadata": {
    "ExecuteTime": {
     "end_time": "2024-05-14T17:30:04.338818Z",
     "start_time": "2024-05-14T17:30:04.337109Z"
    }
   },
   "cell_type": "code",
   "source": "test_image = np.concatenate((caries_test, noncaries_test), axis=0)",
   "id": "c2b4d583f7f6c445",
   "execution_count": 20,
   "outputs": []
  },
  {
   "metadata": {
    "ExecuteTime": {
     "end_time": "2024-05-14T17:30:05.913674Z",
     "start_time": "2024-05-14T17:30:04.339350Z"
    }
   },
   "cell_type": "code",
   "source": "np.argmax(model.predict(test_image), axis=1)",
   "id": "207382400c778c51",
   "execution_count": 21,
   "outputs": []
  },
  {
   "metadata": {
    "ExecuteTime": {
     "end_time": "2024-05-14T17:30:08.716171Z",
     "start_time": "2024-05-14T17:30:05.914402Z"
    }
   },
   "cell_type": "code",
   "source": "model.predict(noncaries_test)",
   "id": "9b983a0d430d27ea",
   "execution_count": 22,
   "outputs": []
  },
  {
   "metadata": {
    "ExecuteTime": {
     "end_time": "2024-05-14T17:30:11.362535Z",
     "start_time": "2024-05-14T17:30:08.717290Z"
    }
   },
   "cell_type": "code",
   "source": "model.predict(caries_test)",
   "id": "6e2664694af2a31",
   "execution_count": 23,
   "outputs": []
  },
  {
   "metadata": {
    "ExecuteTime": {
     "end_time": "2024-05-14T17:30:11.367921Z",
     "start_time": "2024-05-14T17:30:11.363234Z"
    }
   },
   "cell_type": "code",
   "source": "y_pred",
   "id": "c870e7d4bb5623b2",
   "execution_count": 24,
   "outputs": []
  },
  {
   "metadata": {
    "ExecuteTime": {
     "end_time": "2024-05-14T17:30:11.372151Z",
     "start_time": "2024-05-14T17:30:11.368652Z"
    }
   },
   "cell_type": "code",
   "source": "test_labels",
   "id": "b79c76e9676064c5",
   "execution_count": 25,
   "outputs": []
  },
  {
   "metadata": {
    "ExecuteTime": {
     "end_time": "2024-05-14T17:30:18.329247Z",
     "start_time": "2024-05-14T17:30:11.372763Z"
    }
   },
   "cell_type": "code",
   "source": [
    "from keras.models import load_model\n",
    "model_folder = \"/home/dhawi/Documents/model\"\n",
    "MODEL_PATH = os.path.join(model_folder, \"resnet_model.keras\")\n",
    "testmodel = load_model(MODEL_PATH)\n",
    "testmodel.make_predict_function()     \n",
    "\n",
    "np.argmax(testmodel.predict(test_image), axis=1)"
   ],
   "id": "9d840dcfe6a1f833",
   "execution_count": 26,
   "outputs": []
  },
  {
   "metadata": {
    "ExecuteTime": {
     "end_time": "2024-05-14T17:30:18.331440Z",
     "start_time": "2024-05-14T17:30:18.329978Z"
    }
   },
   "cell_type": "code",
   "source": "",
   "id": "56849437109756be",
   "execution_count": 26,
   "outputs": []
  }
 ],
 "metadata": {
  "kernelspec": {
   "display_name": "Python 3",
   "language": "python",
   "name": "python3"
  },
  "language_info": {
   "codemirror_mode": {
    "name": "ipython",
    "version": 2
   },
   "file_extension": ".py",
   "mimetype": "text/x-python",
   "name": "python",
   "nbconvert_exporter": "python",
   "pygments_lexer": "ipython2",
   "version": "2.7.6"
  }
 },
 "nbformat": 4,
 "nbformat_minor": 5
}
